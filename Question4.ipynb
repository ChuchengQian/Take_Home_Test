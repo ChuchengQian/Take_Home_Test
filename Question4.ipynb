{
 "cells": [
  {
   "cell_type": "markdown",
   "metadata": {},
   "source": [
    "# Q4/a"
   ]
  },
  {
   "cell_type": "code",
   "execution_count": 1,
   "metadata": {},
   "outputs": [
    {
     "name": "stdout",
     "output_type": "stream",
     "text": [
      "[*********************100%***********************]  7 of 7 completed\n"
     ]
    }
   ],
   "source": [
    "import pandas as pd\n",
    "import numpy as np\n",
    "import datetime as dt\n",
    "from pandas_datareader import data as pdr\n",
    "import yfinance as yf\n",
    "from scipy.stats import norm\n",
    "\n",
    "yf.pdr_override()\n",
    "\n",
    "stocks = ['AAPL', 'BP', 'COST', 'GOOG', 'GS', 'IBM', 'XOM']\n",
    "\n",
    "endDate = \"2016-12-31\" \n",
    "startDate = \"2016-01-01\" \n",
    "\n",
    "# Import stock data\n",
    "def getData(stocks, start, end):\n",
    "    stockData = pdr.get_data_yahoo(stocks, start=start, end=end)\n",
    "    stockData = stockData['Close']\n",
    "    returns = stockData.pct_change()\n",
    "    meanReturns = returns.mean()\n",
    "    covMatrix = returns.cov()\n",
    "    return returns, meanReturns, covMatrix\n",
    "\n",
    "\n",
    "returns, meanReturns, covMatrix = getData(stocks, start=startDate, end=endDate)\n",
    "returns = returns.dropna()\n",
    "\n",
    "weights = [0.15,0.15,0.15,0.20,0.05,0.20,0.10]\n",
    "\n",
    "confidence_lvl=5\n",
    "\n",
    "returns['portfolio'] = returns.dot(weights)\n",
    "\n"
   ]
  },
  {
   "cell_type": "code",
   "execution_count": 2,
   "metadata": {},
   "outputs": [
    {
     "name": "stdout",
     "output_type": "stream",
     "text": [
      "1-day Hostorical VAR95% is:\n",
      "0.01416876747455724\n",
      " \n",
      "1-day Hostorical CVAR95% is:\n",
      "0.021256080522287897\n"
     ]
    }
   ],
   "source": [
    "\n",
    "hist_VAR_1 = -np.percentile(returns['portfolio'], confidence_lvl)*np.sqrt(1)\n",
    "hist_CVAR_1 = -returns['portfolio'][returns['portfolio'] <= np.percentile(returns['portfolio'], confidence_lvl)].mean()*np.sqrt(1)\n",
    "\n",
    "print(\"1-day Hostorical VAR95% is:\")\n",
    "print(hist_VAR_1)\n",
    "print(\" \")\n",
    "print(\"1-day Hostorical CVAR95% is:\")\n",
    "print(hist_CVAR_1)\n",
    "\n",
    "\n"
   ]
  },
  {
   "cell_type": "code",
   "execution_count": 3,
   "metadata": {},
   "outputs": [
    {
     "name": "stdout",
     "output_type": "stream",
     "text": [
      "252-day Hostorical VAR95% is:\n",
      "0.22492221073187488\n",
      " \n",
      "252-day Hostorical CVAR95% is:\n",
      "0.3374298174596263\n"
     ]
    }
   ],
   "source": [
    "hist_VAR_252 = -np.percentile(returns['portfolio'], confidence_lvl)*np.sqrt(252)\n",
    "hist_CVAR_252 = -returns['portfolio'][returns['portfolio'] <= np.percentile(returns['portfolio'], confidence_lvl)].mean()*np.sqrt(252)\n",
    "\n",
    "print(\"252-day Hostorical VAR95% is:\")\n",
    "print(hist_VAR_252)\n",
    "print(\" \")\n",
    "print(\"252-day Hostorical CVAR95% is:\")\n",
    "print(hist_CVAR_252)"
   ]
  },
  {
   "cell_type": "markdown",
   "metadata": {},
   "source": [
    "# Q4/b"
   ]
  },
  {
   "cell_type": "code",
   "execution_count": 4,
   "metadata": {},
   "outputs": [],
   "source": [
    "# Portfolio Performance\n",
    "def portfolioPerformance(weights, meanReturns, covMatrix, Time):\n",
    "    returns = np.sum(meanReturns*weights)*Time\n",
    "    std = np.sqrt( np.dot(weights.T, np.dot(covMatrix, weights)) ) * np.sqrt(Time)\n",
    "    return returns, std\n",
    "\n"
   ]
  },
  {
   "cell_type": "code",
   "execution_count": 5,
   "metadata": {},
   "outputs": [
    {
     "name": "stdout",
     "output_type": "stream",
     "text": [
      "1-day parametric VAR95% is:\n",
      "0.014410025028747123\n",
      " \n",
      "1-day parametric CVAR95% is:\n",
      "0.01820605798416901\n"
     ]
    }
   ],
   "source": [
    "Time_1=1\n",
    "pRet_1, pStd_1 = portfolioPerformance(np.array(weights), meanReturns, covMatrix, Time_1)\n",
    "para_VAR_1 = -((-norm.ppf(1-confidence_lvl/100))*pStd_1 + pRet_1)\n",
    "para_CVAR_1 = (confidence_lvl/100)**-1 * norm.pdf(norm.ppf(confidence_lvl/100))*pStd_1 - pRet_1\n",
    "\n",
    "\n",
    "print(\"1-day parametric VAR95% is:\")\n",
    "print(para_VAR_1)\n",
    "print(\" \")\n",
    "print(\"1-day parametric CVAR95% is:\")\n",
    "print(para_CVAR_1)\n",
    "\n",
    "\n",
    "\n",
    "\n"
   ]
  },
  {
   "cell_type": "code",
   "execution_count": 6,
   "metadata": {},
   "outputs": [
    {
     "name": "stdout",
     "output_type": "stream",
     "text": [
      "252-day parametric VAR95% is:\n",
      "0.10298849653931971\n",
      " \n",
      "252-day parametric CVAR95% is:\n",
      "0.16324865155123086\n"
     ]
    }
   ],
   "source": [
    "Time_252=252\n",
    "pRet_252, pStd_252 = portfolioPerformance(np.array(weights), meanReturns, covMatrix, Time_252)\n",
    "para_VAR_252 = -((-norm.ppf(1-confidence_lvl/100))*pStd_252 + pRet_252)\n",
    "para_CVAR_252 = (confidence_lvl/100)**-1 * norm.pdf(norm.ppf(confidence_lvl/100))*pStd_252 - pRet_252\n",
    "\n",
    "print(\"252-day parametric VAR95% is:\")\n",
    "print(para_VAR_252)\n",
    "print(\" \")\n",
    "print(\"252-day parametric CVAR95% is:\")\n",
    "print(para_CVAR_252)"
   ]
  },
  {
   "cell_type": "markdown",
   "metadata": {},
   "source": [
    "# Q4/c"
   ]
  },
  {
   "cell_type": "markdown",
   "metadata": {},
   "source": [
    "Assumption: Calculated based the time range from the start date of 2016 to the end date of each month."
   ]
  },
  {
   "cell_type": "code",
   "execution_count": 7,
   "metadata": {},
   "outputs": [],
   "source": [
    "from datetime import datetime\n",
    "from pypfopt.efficient_frontier import EfficientFrontier\n",
    "from pypfopt import risk_models\n",
    "from pypfopt import expected_returns\n",
    "import calendar\n",
    "\n",
    "stocks = ['AAPL', 'BP', 'COST', 'GOOG', 'GS', 'IBM', 'XOM']\n",
    "#current_weights = np.array([0.15,0.15,0.15,0.20,0.05,0.20,0.10])\n"
   ]
  },
  {
   "cell_type": "code",
   "execution_count": 10,
   "metadata": {},
   "outputs": [],
   "source": [
    "def sharpOptimize(price_df):\n",
    "    # Calculate the expected returns and the annualized sample covariance matrix of asset returns\n",
    "    mu = expected_returns.mean_historical_return(price_df)\n",
    "    S = risk_models.sample_cov(price_df)\n",
    "    \n",
    "    # Optimize for maximum sharpe ratio\n",
    "    ef = EfficientFrontier(mu,S,weight_bounds=(None,None))\n",
    "    ef.add_constraint(lambda w: w[0]+w[1]+w[2]+w[3]+w[4]+w[5]+w[6] == 1)\n",
    "    weights = ef.max_sharpe()\n",
    "    cleaned_weights = ef.clean_weights() \n",
    "    port_performance = ef.portfolio_performance(verbose=True)\n",
    "    return cleaned_weights, port_performance"
   ]
  },
  {
   "cell_type": "code",
   "execution_count": 11,
   "metadata": {},
   "outputs": [
    {
     "name": "stdout",
     "output_type": "stream",
     "text": [
      "[*********************100%***********************]  7 of 7 completed\n",
      "Expected annual return: 185.3%\n",
      "Annual volatility: 68.9%\n",
      "Sharpe Ratio: 2.66\n",
      " \n",
      "At the end of 01/31/2016, weights should be changed to\n",
      "OrderedDict([('AAPL', -0.57467), ('BP', 1.0), ('COST', 0.57467), ('GOOG', 1.0), ('GS', -1.0), ('IBM', -1.0), ('XOM', 1.0)])\n",
      " \n",
      "[*********************100%***********************]  7 of 7 completed\n",
      "Expected annual return: 88.3%\n",
      "Annual volatility: 38.7%\n",
      "Sharpe Ratio: 2.23\n",
      " \n",
      "At the end of 02/29/2016, weights should be changed to\n",
      "OrderedDict([('AAPL', -0.02524), ('BP', -0.03551), ('COST', 0.08584), ('GOOG', 0.39603), ('GS', -1.0), ('IBM', 0.57888), ('XOM', 1.0)])\n",
      " \n",
      "[*********************100%***********************]  7 of 7 completed\n",
      "Expected annual return: 143.6%\n",
      "Annual volatility: 40.1%\n",
      "Sharpe Ratio: 3.53\n",
      " \n",
      "At the end of 03/31/2016, weights should be changed to\n",
      "OrderedDict([('AAPL', 0.56291), ('BP', -0.34706), ('COST', -0.39615), ('GOOG', 0.22533), ('GS', -1.0), ('IBM', 1.0), ('XOM', 0.95496)])\n",
      " \n",
      "[*********************100%***********************]  7 of 7 completed\n",
      "Expected annual return: 100.0%\n",
      "Annual volatility: 35.5%\n",
      "Sharpe Ratio: 2.76\n",
      " \n",
      "At the end of 04/30/2016, weights should be changed to\n",
      "OrderedDict([('AAPL', -0.40878), ('BP', 0.251), ('COST', 0.02438), ('GOOG', 0.04434), ('GS', -0.59248), ('IBM', 0.68154), ('XOM', 1.0)])\n",
      " \n",
      "[*********************100%***********************]  7 of 7 completed\n",
      "Expected annual return: 93.2%\n",
      "Annual volatility: 29.9%\n",
      "Sharpe Ratio: 3.05\n",
      " \n",
      "At the end of 05/31/2016, weights should be changed to\n",
      "OrderedDict([('AAPL', -0.04293), ('BP', -0.06146), ('COST', -0.21413), ('GOOG', 0.13791), ('GS', -0.59657), ('IBM', 0.77719), ('XOM', 1.0)])\n",
      " \n",
      "[*********************100%***********************]  7 of 7 completed\n",
      "Expected annual return: 106.6%\n",
      "Annual volatility: 32.8%\n",
      "Sharpe Ratio: 3.19\n",
      " \n",
      "At the end of 06/30/2016, weights should be changed to\n",
      "OrderedDict([('AAPL', -0.20009), ('BP', 0.30828), ('COST', 0.32881), ('GOOG', -0.09948), ('GS', -0.9458), ('IBM', 0.60828), ('XOM', 1.0)])\n",
      " \n",
      "[*********************100%***********************]  7 of 7 completed\n",
      "Expected annual return: 80.1%\n",
      "Annual volatility: 30.3%\n",
      "Sharpe Ratio: 2.58\n",
      " \n",
      "At the end of 07/31/2016, weights should be changed to\n",
      "OrderedDict([('AAPL', -0.06139), ('BP', 0.13471), ('COST', 0.21412), ('GOOG', -0.0263), ('GS', -0.98877), ('IBM', 0.94644), ('XOM', 0.78119)])\n",
      " \n",
      "[*********************100%***********************]  7 of 7 completed\n",
      "Expected annual return: 56.1%\n",
      "Annual volatility: 27.6%\n",
      "Sharpe Ratio: 1.96\n",
      " \n",
      "At the end of 08/31/2016, weights should be changed to\n",
      "OrderedDict([('AAPL', 0.03592), ('BP', 0.12106), ('COST', -0.00108), ('GOOG', -0.0425), ('GS', -0.82143), ('IBM', 1.0), ('XOM', 0.70804)])\n",
      " \n",
      "[*********************100%***********************]  7 of 7 completed\n",
      "Expected annual return: 69.1%\n",
      "Annual volatility: 31.8%\n",
      "Sharpe Ratio: 2.11\n",
      " \n",
      "At the end of 09/30/2016, weights should be changed to\n",
      "OrderedDict([('AAPL', 0.43814), ('BP', 0.31767), ('COST', -0.51491), ('GOOG', 0.19508), ('GS', -1.0), ('IBM', 1.0), ('XOM', 0.56403)])\n",
      " \n",
      "[*********************100%***********************]  7 of 7 completed\n",
      "Expected annual return: 57.9%\n",
      "Annual volatility: 39.0%\n",
      "Sharpe Ratio: 1.44\n",
      " \n",
      "At the end of 10/31/2016, weights should be changed to\n",
      "OrderedDict([('AAPL', 0.59197), ('BP', 0.7362), ('COST', -1.0), ('GOOG', 0.38686), ('GS', -1.0), ('IBM', 0.99926), ('XOM', 0.28571)])\n",
      " \n",
      "[*********************100%***********************]  7 of 7 completed\n",
      "Expected annual return: 43.4%\n",
      "Annual volatility: 29.2%\n",
      "Sharpe Ratio: 1.42\n",
      " \n",
      "At the end of 11/30/2016, weights should be changed to\n",
      "OrderedDict([('AAPL', 0.17729), ('BP', -0.28767), ('COST', -0.62741), ('GOOG', -0.26388), ('GS', 0.3982), ('IBM', 1.0), ('XOM', 0.60346)])\n",
      " \n",
      "[*********************100%***********************]  7 of 7 completed\n",
      "Expected annual return: 53.4%\n",
      "Annual volatility: 31.9%\n",
      "Sharpe Ratio: 1.61\n",
      " \n",
      "At the end of 12/31/2016, weights should be changed to\n",
      "OrderedDict([('AAPL', 0.14395), ('BP', -0.03953), ('COST', -0.42271), ('GOOG', -0.61221), ('GS', 0.72146), ('IBM', 0.86854), ('XOM', 0.34051)])\n",
      " \n"
     ]
    }
   ],
   "source": [
    "for i in range(0,12):\n",
    "    start_date = dt.date(2016,1,1)\n",
    "    end_of_month = dt.date(2016,i+1,calendar.monthrange(2016, i+1)[1]) \n",
    "    \n",
    "    price_df = pdr.get_data_yahoo(stocks, start_date, end_of_month)['Adj Close']\n",
    "    cleaned_weights, port_performance = sharpOptimize(price_df)\n",
    "    print(\" \")\n",
    "    print(\"At the end of \" + end_of_month.strftime('%m/%d/%Y') + \", weights should be changed to\")\n",
    "    print(cleaned_weights)\n",
    "    print(\" \")\n",
    "    \n"
   ]
  },
  {
   "cell_type": "code",
   "execution_count": null,
   "metadata": {},
   "outputs": [],
   "source": []
  }
 ],
 "metadata": {
  "kernelspec": {
   "display_name": "Python 3",
   "language": "python",
   "name": "python3"
  },
  "language_info": {
   "codemirror_mode": {
    "name": "ipython",
    "version": 3
   },
   "file_extension": ".py",
   "mimetype": "text/x-python",
   "name": "python",
   "nbconvert_exporter": "python",
   "pygments_lexer": "ipython3",
   "version": "3.8.5"
  }
 },
 "nbformat": 4,
 "nbformat_minor": 4
}
