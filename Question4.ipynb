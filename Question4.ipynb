{
 "cells": [
  {
   "cell_type": "markdown",
   "metadata": {},
   "source": [
    "# Q4/a"
   ]
  },
  {
   "cell_type": "code",
   "execution_count": 178,
   "metadata": {},
   "outputs": [
    {
     "name": "stdout",
     "output_type": "stream",
     "text": [
      "[*********************100%***********************]  7 of 7 completed\n"
     ]
    }
   ],
   "source": [
    "import pandas as pd\n",
    "import numpy as np\n",
    "import datetime as dt\n",
    "from pandas_datareader import data as pdr\n",
    "import yfinance as yf\n",
    "\n",
    "yf.pdr_override()\n",
    "\n",
    "stocks = ['AAPL', 'BP', 'COST', 'GOOG', 'GS', 'IBM', 'XOM']\n",
    "\n",
    "endDate = \"2016-12-31\" #no stock data for 2016/12/31, so no need to extend date\n",
    "startDate = \"2016-01-01\" #no stock data for 2016/01/01 - 2016/01/03, so no need to extend date\n",
    "\n",
    "# Import stock data\n",
    "def getData(stocks, start, end):\n",
    "    stockData = pdr.get_data_yahoo(stocks, start=start, end=end)\n",
    "    stockData = stockData['Close']\n",
    "    returns = stockData.pct_change()\n",
    "    meanReturns = returns.mean()\n",
    "    covMatrix = returns.cov()\n",
    "    return returns, meanReturns, covMatrix\n",
    "\n",
    "\n",
    "returns, meanReturns, covMatrix = getData(stocks, start=startDate, end=endDate)\n",
    "returns = returns.dropna()\n",
    "\n",
    "weights = [0.15,0.15,0.15,0.20,0.05,0.20,0.10]\n",
    "\n",
    "confidence_lvl=5\n",
    "\n",
    "returns['portfolio'] = returns.dot(weights)\n",
    "\n"
   ]
  },
  {
   "cell_type": "code",
   "execution_count": 179,
   "metadata": {},
   "outputs": [
    {
     "name": "stdout",
     "output_type": "stream",
     "text": [
      "1-day Hostorical VAR95% is:\n",
      "0.01416876747455724\n",
      " \n",
      "1-day Hostorical CVAR95% is:\n",
      "0.021256080522287897\n"
     ]
    }
   ],
   "source": [
    "\n",
    "hist_VAR_1 = -np.percentile(returns['portfolio'], confidence_lvl)*np.sqrt(1)\n",
    "hist_CVAR_1 = -returns['portfolio'][returns['portfolio'] <= np.percentile(returns['portfolio'], confidence_lvl)].mean()*np.sqrt(1)\n",
    "\n",
    "print(\"1-day Hostorical VAR95% is:\")\n",
    "print(hist_VAR_1)\n",
    "print(\" \")\n",
    "print(\"1-day Hostorical CVAR95% is:\")\n",
    "print(hist_CVAR_1)\n",
    "\n",
    "\n"
   ]
  },
  {
   "cell_type": "code",
   "execution_count": 180,
   "metadata": {},
   "outputs": [
    {
     "name": "stdout",
     "output_type": "stream",
     "text": [
      "252-day Hostorical VAR95% is:\n",
      "0.22492221073187488\n",
      " \n",
      "252-day Hostorical CVAR95% is:\n",
      "0.3374298174596263\n"
     ]
    }
   ],
   "source": [
    "hist_VAR_252 = -np.percentile(returns['portfolio'], confidence_lvl)*np.sqrt(252)\n",
    "hist_CVAR_252 = -returns['portfolio'][returns['portfolio'] <= np.percentile(returns['portfolio'], confidence_lvl)].mean()*np.sqrt(252)\n",
    "\n",
    "print(\"252-day Hostorical VAR95% is:\")\n",
    "print(hist_VAR_252)\n",
    "print(\" \")\n",
    "print(\"252-day Hostorical CVAR95% is:\")\n",
    "print(hist_CVAR_252)"
   ]
  },
  {
   "cell_type": "markdown",
   "metadata": {},
   "source": [
    "# Q4/b"
   ]
  },
  {
   "cell_type": "code",
   "execution_count": 181,
   "metadata": {},
   "outputs": [],
   "source": [
    "from scipy.stats import norm\n",
    "\n",
    "# Portfolio Performance\n",
    "def portfolioPerformance(weights, meanReturns, covMatrix, Time):\n",
    "    returns = np.sum(meanReturns*weights)*Time\n",
    "    std = np.sqrt( np.dot(weights.T, np.dot(covMatrix, weights)) ) * np.sqrt(Time)\n",
    "    return returns, std\n",
    "\n"
   ]
  },
  {
   "cell_type": "code",
   "execution_count": 182,
   "metadata": {},
   "outputs": [
    {
     "name": "stdout",
     "output_type": "stream",
     "text": [
      "1-day parametric VAR95% is:\n",
      "0.014410025028747123\n",
      " \n",
      "1-day parametric CVAR95% is:\n",
      "0.01820605798416901\n"
     ]
    }
   ],
   "source": [
    "Time_1=1\n",
    "pRet_1, pStd_1 = portfolioPerformance(np.array(weights), meanReturns, covMatrix, Time_1)\n",
    "para_VAR_1 = -((-norm.ppf(1-confidence_lvl/100))*pStd_1 + pRet_1)\n",
    "para_CVAR_1 = (confidence_lvl/100)**-1 * norm.pdf(norm.ppf(confidence_lvl/100))*pStd_1 - pRet_1\n",
    "\n",
    "\n",
    "print(\"1-day parametric VAR95% is:\")\n",
    "print(para_VAR_1)\n",
    "print(\" \")\n",
    "print(\"1-day parametric CVAR95% is:\")\n",
    "print(para_CVAR_1)\n",
    "\n",
    "\n",
    "\n",
    "\n"
   ]
  },
  {
   "cell_type": "code",
   "execution_count": 183,
   "metadata": {},
   "outputs": [
    {
     "name": "stdout",
     "output_type": "stream",
     "text": [
      "252-day parametric VAR95% is:\n",
      "0.10298849653931971\n",
      " \n",
      "252-day parametric CVAR95% is:\n",
      "0.16324865155123086\n"
     ]
    }
   ],
   "source": [
    "Time_252=252\n",
    "pRet_252, pStd_252 = portfolioPerformance(np.array(weights), meanReturns, covMatrix, Time_252)\n",
    "para_VAR_252 = -((-norm.ppf(1-confidence_lvl/100))*pStd_252 + pRet_252)\n",
    "para_CVAR_252 = (confidence_lvl/100)**-1 * norm.pdf(norm.ppf(confidence_lvl/100))*pStd_252 - pRet_252\n",
    "\n",
    "print(\"252-day parametric VAR95% is:\")\n",
    "print(para_VAR_252)\n",
    "print(\" \")\n",
    "print(\"252-day parametric CVAR95% is:\")\n",
    "print(para_CVAR_252)"
   ]
  },
  {
   "cell_type": "code",
   "execution_count": null,
   "metadata": {},
   "outputs": [],
   "source": []
  }
 ],
 "metadata": {
  "kernelspec": {
   "display_name": "Python 3",
   "language": "python",
   "name": "python3"
  },
  "language_info": {
   "codemirror_mode": {
    "name": "ipython",
    "version": 3
   },
   "file_extension": ".py",
   "mimetype": "text/x-python",
   "name": "python",
   "nbconvert_exporter": "python",
   "pygments_lexer": "ipython3",
   "version": "3.8.5"
  }
 },
 "nbformat": 4,
 "nbformat_minor": 4
}
