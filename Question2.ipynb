{
 "cells": [
  {
   "cell_type": "code",
   "execution_count": 4,
   "metadata": {},
   "outputs": [],
   "source": [
    "exists <- function(V) { \n",
    "    if (is.null(get0(as.character(substitute(V)), envir=parent.frame()))){\n",
    "        print (\"The variable V is not defined.\")\n",
    "    } else {\n",
    "        print (\"The variable V is defined.\")\n",
    "    }\n",
    "    }"
   ]
  },
  {
   "cell_type": "code",
   "execution_count": 5,
   "metadata": {},
   "outputs": [
    {
     "name": "stdout",
     "output_type": "stream",
     "text": [
      "[1] \"a:\"\n",
      "[1] \"The variable V is defined.\"\n",
      "[1] \"b:\"\n",
      "[1] \"The variable V is not defined.\"\n"
     ]
    }
   ],
   "source": [
    "a = 0\n",
    "\n",
    "# Should print \"\"The variable V is defined.\"\n",
    "print(\"a:\")\n",
    "exists(a)\n",
    "\n",
    "# Should print \"The variable V is not defined.\"\n",
    "print(\"b:\")\n",
    "exists(b)\n"
   ]
  },
  {
   "cell_type": "code",
   "execution_count": null,
   "metadata": {},
   "outputs": [],
   "source": []
  }
 ],
 "metadata": {
  "kernelspec": {
   "display_name": "R",
   "language": "R",
   "name": "ir"
  },
  "language_info": {
   "codemirror_mode": "r",
   "file_extension": ".r",
   "mimetype": "text/x-r-source",
   "name": "R",
   "pygments_lexer": "r",
   "version": "3.6.1"
  }
 },
 "nbformat": 4,
 "nbformat_minor": 4
}
