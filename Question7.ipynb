{
 "cells": [
  {
   "cell_type": "code",
   "execution_count": null,
   "metadata": {},
   "outputs": [],
   "source": [
    "import  re\n",
    "\n",
    "# Frist expression matches YYYY/MM/DD, Second expression matches MM/DD/YYYY and DD/MM/YYYY, Third expression matches DD (Jan/Feb/Mar/Apr/May/Jun/Jul/Aug/Sept/Oct/Nov/Dec) YYYY\n",
    "reg_pattern_list = [r'(\\d{4})[/](\\d{2})[/](\\d{2})',r'(\\d{2})[/](\\d{2})[/](\\d{4})',r'(\\d{2})[\\s](\\w{3})[\\s](\\d{4})']\n",
    "\n",
    "\n",
    "\n",
    "\n",
    "textfile = open(filename, 'r')\n",
    "filetext = textfile.read()\n",
    "textfile.close()\n",
    "\n",
    "total_appearance = 0\n",
    "\n",
    "for i in range(len(reg_pattern_list)):\n",
    "    pattern = reg_pattern_list[i]\n",
    "    count = len(re.findall(pattern, filetext))\n",
    "    total_appearance = total_appearance + count\n",
    "\n",
    "print(\"Total number of appearance of“date” within the text file:\")\n",
    "print(total_appearance)"
   ]
  }
 ],
 "metadata": {
  "kernelspec": {
   "display_name": "Python 3",
   "language": "python",
   "name": "python3"
  },
  "language_info": {
   "codemirror_mode": {
    "name": "ipython",
    "version": 3
   },
   "file_extension": ".py",
   "mimetype": "text/x-python",
   "name": "python",
   "nbconvert_exporter": "python",
   "pygments_lexer": "ipython3",
   "version": "3.8.5"
  }
 },
 "nbformat": 4,
 "nbformat_minor": 4
}
