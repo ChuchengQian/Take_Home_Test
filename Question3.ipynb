{
 "cells": [
  {
   "cell_type": "code",
   "execution_count": 5,
   "metadata": {},
   "outputs": [],
   "source": [
    "from math import comb\n",
    "\n",
    "def pascal_triangle(nlayer):\n",
    "    for line in range(nlayer):  \n",
    "  \n",
    "        for i in range(line + 1):\n",
    "            # combo(n,k): choose k things from n\n",
    "            c = comb(line,i)\n",
    "            print(c, end = \" \")\n",
    "        print(\" \")  "
   ]
  },
  {
   "cell_type": "code",
   "execution_count": 6,
   "metadata": {},
   "outputs": [
    {
     "name": "stdout",
     "output_type": "stream",
     "text": [
      "Pascal_triangle:\n",
      "1  \n",
      "1 1  \n",
      "1 2 1  \n",
      "1 3 3 1  \n"
     ]
    }
   ],
   "source": [
    "print(\"Pascal_triangle:\")\n",
    "pascal_triangle(4)"
   ]
  }
 ],
 "metadata": {
  "kernelspec": {
   "display_name": "Python 3",
   "language": "python",
   "name": "python3"
  },
  "language_info": {
   "codemirror_mode": {
    "name": "ipython",
    "version": 3
   },
   "file_extension": ".py",
   "mimetype": "text/x-python",
   "name": "python",
   "nbconvert_exporter": "python",
   "pygments_lexer": "ipython3",
   "version": "3.8.5"
  }
 },
 "nbformat": 4,
 "nbformat_minor": 4
}
